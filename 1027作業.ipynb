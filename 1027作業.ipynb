{
  "nbformat": 4,
  "nbformat_minor": 0,
  "metadata": {
    "colab": {
      "provenance": []
    },
    "kernelspec": {
      "name": "python3",
      "display_name": "Python 3"
    },
    "language_info": {
      "name": "python"
    }
  },
  "cells": [
    {
      "cell_type": "code",
      "execution_count": 6,
      "metadata": {
        "id": "fsXtreOQ-oGo",
        "colab": {
          "base_uri": "https://localhost:8080/"
        },
        "outputId": "da837f6a-3bc5-4d0e-eba9-4cfb32efd818"
      },
      "outputs": [
        {
          "output_type": "stream",
          "name": "stdout",
          "text": [
            "\n",
            "您想查詢什麼？(藥方名稱/出典/處方/效能/適應症/退出查詢)：藥方名稱\n",
            "加味逍遙散\n",
            "\n",
            "您想查詢什麼？(藥方名稱/出典/處方/效能/適應症/退出查詢)：出典\n",
            "加味逍遙散的出典為:證治準繩\n",
            "\n",
            "您想查詢什麼？(藥方名稱/出典/處方/效能/適應症/退出查詢)：處方\n",
            "加味逍遙散的處方為:\n",
            "當歸：4公克\n",
            "白术：4公克\n",
            "白芍：4公克\n",
            "柴胡：4公克\n",
            "茯苓：4公克\n",
            "牡丹皮：2.5公克\n",
            "山梔子：4公克\n",
            "煨薑：4公克\n",
            "炙甘草：2公克\n",
            "薄荷(一日飲片量33公克)：2公克\n",
            "總克數為：34.5公克\n",
            "\n",
            "您想查詢什麼？(藥方名稱/出典/處方/效能/適應症/退出查詢)：效能\n",
            "加味逍遙散的效能是:疏肝解鬱、清熱涼血。\n",
            "\n",
            "您想查詢什麼？(藥方名稱/出典/處方/效能/適應症/退出查詢)：適應症\n",
            "加味逍遙散的適應症有:\n",
            "肝鬱血虛發熱\n",
            "月經不調\n",
            "怔忡不寧\n",
            "\n",
            "您想查詢什麼？(藥方名稱/出典/處方/效能/適應症/退出查詢)：退出查詢\n",
            "感謝使用，再見！\n"
          ]
        }
      ],
      "source": [
        "# 定義加味逍遙散的資料\n",
        "prescription = {\n",
        "    '名稱': '加味逍遙散',\n",
        "    '出典': '證治準繩',\n",
        "    '處方': {\n",
        "        '當歸': 4,  # 公克\n",
        "        '白术': 4,\n",
        "        '白芍': 4,\n",
        "        '柴胡': 4,\n",
        "        '茯苓': 4,\n",
        "        '牡丹皮': 2.5,\n",
        "        '山梔子': 4,\n",
        "        '煨薑': 4,\n",
        "        '炙甘草': 2,\n",
        "        '薄荷(一日飲片量33公克)': 2\n",
        "    },\n",
        "    '效能': '疏肝解鬱、清熱涼血。',\n",
        "    '適應症': ['肝鬱血虛發熱', '月經不調', '怔忡不寧']\n",
        "}\n",
        "\n",
        "# 使用 while 迴圈提供查詢服務\n",
        "while True:\n",
        "    query = input(\"\\n您想查詢什麼？(藥方名稱/出典/處方/效能/適應症/退出查詢)：\")\n",
        "\n",
        "    if query == \"藥方名稱\":\n",
        "        print(f\"{prescription['名稱']}\")\n",
        "    elif query == \"出典\":\n",
        "        print(f\"{prescription['名稱']}的出典為:{prescription['出典']}\")\n",
        "    elif query == \"適應症\":\n",
        "        print(f\"{prescription['名稱']}的適應症有:\")\n",
        "        for symptom in prescription['適應症']:\n",
        "            print(symptom)\n",
        "    elif query == \"處方\":\n",
        "        total_weight = sum(prescription['處方'].values())\n",
        "        print(f\"{prescription['名稱']}的處方為:\")\n",
        "        for medicine, weight in prescription['處方'].items():\n",
        "            print(f\"{medicine}：{weight}公克\")\n",
        "        print(f\"總克數為：{total_weight}公克\")\n",
        "    elif query == \"效能\":\n",
        "        print(f\"{prescription['名稱']}的效能是:{prescription['效能']}\")\n",
        "    elif query == \"退出查詢\":\n",
        "        print(\"感謝使用，再見！\")\n",
        "        break\n",
        "    else:\n",
        "        print(\"輸入無效，請重新輸入。\")"
      ]
    }
  ]
}